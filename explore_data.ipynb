{
 "cells": [
  {
   "cell_type": "code",
   "execution_count": 13,
   "metadata": {},
   "outputs": [],
   "source": [
    "import os \n",
    "import numpy as np\n",
    "import string\n",
    "import torch\n",
    "import re\n",
    "from tqdm import tqdm\n",
    "from scipy.io import loadmat"
   ]
  },
  {
   "cell_type": "markdown",
   "metadata": {},
   "source": [
    "## Dataset\n",
    "The dataset contains the EEG recordings of 15 subjects. For each subject, we have 15 different recordings, each one collected while watching a different movie clip. Each clip is associated to an emotional state amon {sad: -1, neutral: 0, happy: 1}. EEG recordings comprises 62 channels.\n",
    "\n",
    "N.B. Recordings correspondent to the same movies have the same length, while recordings correspondent to different movies have different length (iun general). How to do? No problem, since we are taking sub windows of the signals.\n",
    "\n",
    "Data have been preprocessed by downsampling signals to 200Hz, segmentating the signals such that it corresponds to the length of the movie and applying a band-pass filter at 0-75Hz. Since recordings are about 4 minutes long and are now sampled at 200Hz, they contain roughly 48k time points each."
   ]
  },
  {
   "cell_type": "code",
   "execution_count": 2,
   "metadata": {},
   "outputs": [],
   "source": [
    "data = loadmat(\"data/Preprocessed_EEG/1_20131027.mat\")"
   ]
  },
  {
   "cell_type": "code",
   "execution_count": 5,
   "metadata": {},
   "outputs": [
    {
     "data": {
      "text/plain": [
       "(1, 15)"
      ]
     },
     "execution_count": 5,
     "metadata": {},
     "output_type": "execute_result"
    }
   ],
   "source": [
    "labels = loadmat(\"data/Preprocessed_EEG/label.mat\")\n",
    "labels[\"label\"].shape"
   ]
  },
  {
   "cell_type": "code",
   "execution_count": 13,
   "metadata": {},
   "outputs": [
    {
     "name": "stdout",
     "output_type": "stream",
     "text": [
      "dict_keys(['__header__', '__version__', '__globals__', 'djc_eeg1', 'djc_eeg2', 'djc_eeg3', 'djc_eeg4', 'djc_eeg5', 'djc_eeg6', 'djc_eeg7', 'djc_eeg8', 'djc_eeg9', 'djc_eeg10', 'djc_eeg11', 'djc_eeg12', 'djc_eeg13', 'djc_eeg14', 'djc_eeg15'])\n"
     ]
    },
    {
     "data": {
      "text/plain": [
       "(62, 41201)"
      ]
     },
     "execution_count": 13,
     "metadata": {},
     "output_type": "execute_result"
    }
   ],
   "source": [
    "print(data.keys())\n",
    "data[\"djc_eeg3\"].shape"
   ]
  },
  {
   "cell_type": "code",
   "execution_count": 29,
   "metadata": {},
   "outputs": [
    {
     "name": "stderr",
     "output_type": "stream",
     "text": [
      "  0%|          | 0/45 [00:00<?, ?it/s]"
     ]
    },
    {
     "name": "stderr",
     "output_type": "stream",
     "text": [
      "100%|██████████| 45/45 [01:03<00:00,  1.40s/it]"
     ]
    },
    {
     "name": "stdout",
     "output_type": "stream",
     "text": [
      "(45, 15)\n",
      "45254.333333333336\n",
      "[47001. 46601. 41201. 47601. 37001. 39001. 47401. 43201. 53001. 47401.\n",
      " 47001. 46601. 47001. 47601. 41201.]\n",
      "[45254.33333333 45254.33333333 45254.33333333 45254.33333333\n",
      " 45254.33333333 45254.33333333 45254.33333333 45254.33333333\n",
      " 45254.33333333 45254.33333333 45254.33333333 45254.33333333\n",
      " 45254.33333333 45254.33333333 45254.33333333 45254.33333333\n",
      " 45254.33333333 45254.33333333 45254.33333333 45254.33333333\n",
      " 45254.33333333 45254.33333333 45254.33333333 45254.33333333\n",
      " 45254.33333333 45254.33333333 45254.33333333 45254.33333333\n",
      " 45254.33333333 45254.33333333 45254.33333333 45254.33333333\n",
      " 45254.33333333 45254.33333333 45254.33333333 45254.33333333\n",
      " 45254.33333333 45254.33333333 45254.33333333 45254.33333333\n",
      " 45254.33333333 45254.33333333 45254.33333333 45254.33333333\n",
      " 45254.33333333]\n"
     ]
    },
    {
     "name": "stderr",
     "output_type": "stream",
     "text": [
      "\n"
     ]
    }
   ],
   "source": [
    "eeg_files = [fname for fname in os.listdir(\"data/Preprocessed_EEG\") if fname[0] in string.digits]\n",
    "data_lengths = []\n",
    "for eeg_file in tqdm(eeg_files):\n",
    "    raw = loadmat(os.path.join(\"data/Preprocessed_EEG\", eeg_file))\n",
    "    curr_lengths = []\n",
    "    pattern = list(raw.keys())[4].split(\"_\")[0]\n",
    "    for i in range(15):\n",
    "        curr_lengths.append(raw[f\"{pattern}_eeg{i + 1}\"].shape[1])\n",
    "    data_lengths.append(curr_lengths)\n",
    "\n",
    "data_lengths = np.asarray(data_lengths)\n",
    "print(data_lengths.shape)\n",
    "print(np.mean(data_lengths))\n",
    "print(np.mean(data_lengths, axis=0))\n",
    "print(np.mean(data_lengths, axis=1))"
   ]
  },
  {
   "cell_type": "code",
   "execution_count": 31,
   "metadata": {},
   "outputs": [
    {
     "name": "stdout",
     "output_type": "stream",
     "text": [
      "(array([37001, 39001, 41201, 43201, 46601, 47001, 47401, 47601, 53001]), array([ 45,  45,  90,  45,  90, 135,  90,  90,  45]))\n",
      "[0. 0. 0. 0. 0. 0. 0. 0. 0. 0. 0. 0. 0. 0. 0.]\n"
     ]
    }
   ],
   "source": [
    "print(np.unique(data_lengths, return_counts=True))\n",
    "print(np.std(data_lengths, axis=0))"
   ]
  }
 ],
 "metadata": {
  "kernelspec": {
   "display_name": "brain_DL",
   "language": "python",
   "name": "python3"
  },
  "language_info": {
   "codemirror_mode": {
    "name": "ipython",
    "version": 3
   },
   "file_extension": ".py",
   "mimetype": "text/x-python",
   "name": "python",
   "nbconvert_exporter": "python",
   "pygments_lexer": "ipython3",
   "version": "3.10.12"
  }
 },
 "nbformat": 4,
 "nbformat_minor": 2
}
