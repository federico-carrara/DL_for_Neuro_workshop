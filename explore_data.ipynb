{
 "cells": [
  {
   "cell_type": "code",
   "execution_count": null,
   "metadata": {},
   "outputs": [],
   "source": [
    "import os \n",
    "import numpy as np\n",
    "import string\n",
    "import torch\n",
    "import re\n",
    "from tqdm import tqdm\n",
    "from scipy.io import loadmat\n",
    "from utils import  TrainDataset"
   ]
  },
  {
   "cell_type": "markdown",
   "metadata": {},
   "source": [
    "## Dataset\n",
    "The dataset contains the EEG recordings of 15 subjects. For each subject, we have 15 different recordings, each one collected while watching a different movie clip. Each clip is associated to an emotional state amon {sad: -1, neutral: 0, happy: 1}. EEG recordings comprises 62 channels.\n",
    "\n",
    "N.B. Recordings correspondent to the same movies have the same length, while recordings correspondent to different movies have different length (iun general). How to do? No problem, since we are taking sub windows of the signals.\n",
    "\n",
    "Data have been preprocessed by downsampling signals to 200Hz, segmentating the signals such that it corresponds to the length of the movie and applying a band-pass filter at 0-75Hz. Since recordings are about 4 minutes long and are now sampled at 200Hz, they contain roughly 48k time points each."
   ]
  },
  {
   "cell_type": "code",
   "execution_count": null,
   "metadata": {},
   "outputs": [],
   "source": [
    "data = loadmat(\"data/Preprocessed_EEG/1_20131027.mat\")"
   ]
  },
  {
   "cell_type": "code",
   "execution_count": null,
   "metadata": {},
   "outputs": [],
   "source": [
    "labels = loadmat(\"data/Preprocessed_EEG/label.mat\")\n",
    "labels[\"label\"].shape"
   ]
  },
  {
   "cell_type": "code",
   "execution_count": null,
   "metadata": {},
   "outputs": [],
   "source": [
    "print(data.keys())\n",
    "data[\"djc_eeg3\"].shape"
   ]
  },
  {
   "cell_type": "code",
   "execution_count": null,
   "metadata": {},
   "outputs": [],
   "source": [
    "eeg_files = [fname for fname in os.listdir(\"data/Preprocessed_EEG\") if fname[0] in string.digits]\n",
    "data_lengths = []\n",
    "for eeg_file in tqdm(eeg_files):\n",
    "    raw = loadmat(os.path.join(\"data/Preprocessed_EEG\", eeg_file))\n",
    "    curr_lengths = []\n",
    "    pattern = list(raw.keys())[4].split(\"_\")[0]\n",
    "    for i in range(15):\n",
    "        curr_lengths.append(raw[f\"{pattern}_eeg{i + 1}\"].shape[1])\n",
    "    data_lengths.append(curr_lengths)\n",
    "\n",
    "data_lengths = np.asarray(data_lengths)\n",
    "print(data_lengths.shape)\n",
    "print(np.mean(data_lengths))\n",
    "print(np.mean(data_lengths, axis=0))\n",
    "print(np.mean(data_lengths, axis=1))\n",
    "print(np.unique(data_lengths, return_counts=True))\n",
    "print(np.std(data_lengths, axis=0))"
   ]
  },
  {
   "cell_type": "code",
   "execution_count": null,
   "metadata": {},
   "outputs": [],
   "source": [
    "dataset = TrainDataset(\"data/Preprocessed_EEG\", \"data/Preprocessed_EEG/label.mat\", 2000, 200, False)"
   ]
  }
 ],
 "metadata": {
  "kernelspec": {
   "display_name": "brain_DL",
   "language": "python",
   "name": "python3"
  },
  "language_info": {
   "codemirror_mode": {
    "name": "ipython",
    "version": 3
   },
   "file_extension": ".py",
   "mimetype": "text/x-python",
   "name": "python",
   "nbconvert_exporter": "python",
   "pygments_lexer": "ipython3",
   "version": "3.10.12"
  }
 },
 "nbformat": 4,
 "nbformat_minor": 2
}
